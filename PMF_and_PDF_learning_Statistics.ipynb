{
  "nbformat": 4,
  "nbformat_minor": 0,
  "metadata": {
    "colab": {
      "provenance": []
    },
    "kernelspec": {
      "name": "python3",
      "display_name": "Python 3"
    },
    "language_info": {
      "name": "python"
    }
  },
  "cells": [
    {
      "cell_type": "code",
      "execution_count": null,
      "metadata": {
        "id": "i2E3QX4JbWBV"
      },
      "outputs": [],
      "source": [
        "import pandas as pd\n",
        "import random"
      ]
    },
    {
      "cell_type": "code",
      "source": [
        "L=[]\n",
        "for i in range(10000):\n",
        "  L.append(random.randint(1,6))"
      ],
      "metadata": {
        "id": "aO_CYDF8cDYL"
      },
      "execution_count": null,
      "outputs": []
    },
    {
      "cell_type": "code",
      "source": [
        "len(L)"
      ],
      "metadata": {
        "colab": {
          "base_uri": "https://localhost:8080/"
        },
        "id": "uVS7jlPgcFmU",
        "outputId": "568d0703-1b93-4236-ab42-db964687b3c5"
      },
      "execution_count": null,
      "outputs": [
        {
          "output_type": "execute_result",
          "data": {
            "text/plain": [
              "10000"
            ]
          },
          "metadata": {},
          "execution_count": 4
        }
      ]
    },
    {
      "cell_type": "code",
      "source": [
        "L[:10]"
      ],
      "metadata": {
        "colab": {
          "base_uri": "https://localhost:8080/"
        },
        "id": "wDEQQ2fmcdpD",
        "outputId": "bd2d01ba-45de-4a47-93b0-2587878dbe1f"
      },
      "execution_count": null,
      "outputs": [
        {
          "output_type": "execute_result",
          "data": {
            "text/plain": [
              "[2, 4, 3, 3, 1, 2, 3, 5, 2, 5]"
            ]
          },
          "metadata": {},
          "execution_count": 5
        }
      ]
    },
    {
      "cell_type": "code",
      "source": [
        "pd.Series(L).value_counts()"
      ],
      "metadata": {
        "colab": {
          "base_uri": "https://localhost:8080/"
        },
        "id": "oyAtvOYQckrH",
        "outputId": "ee8ce1cb-8625-4d78-8fd6-a14c92ba94c1"
      },
      "execution_count": null,
      "outputs": [
        {
          "output_type": "execute_result",
          "data": {
            "text/plain": [
              "1    1714\n",
              "5    1694\n",
              "6    1660\n",
              "2    1651\n",
              "4    1645\n",
              "3    1636\n",
              "dtype: int64"
            ]
          },
          "metadata": {},
          "execution_count": 6
        }
      ]
    },
    {
      "cell_type": "code",
      "source": [
        "s=(pd.Series(L).value_counts()/pd.Series(L).value_counts().sum()).sort_index()"
      ],
      "metadata": {
        "id": "FUjWaKdtc5UZ"
      },
      "execution_count": null,
      "outputs": []
    },
    {
      "cell_type": "code",
      "source": [
        "s"
      ],
      "metadata": {
        "colab": {
          "base_uri": "https://localhost:8080/"
        },
        "id": "FgX7ZrJKdeek",
        "outputId": "65cef517-5917-41fe-cb0d-22fd5c07ac6a"
      },
      "execution_count": null,
      "outputs": [
        {
          "output_type": "execute_result",
          "data": {
            "text/plain": [
              "1    0.1714\n",
              "2    0.1651\n",
              "3    0.1636\n",
              "4    0.1645\n",
              "5    0.1694\n",
              "6    0.1660\n",
              "dtype: float64"
            ]
          },
          "metadata": {},
          "execution_count": 8
        }
      ]
    },
    {
      "cell_type": "code",
      "source": [
        "s.plot(kind='bar')"
      ],
      "metadata": {
        "colab": {
          "base_uri": "https://localhost:8080/",
          "height": 442
        },
        "id": "xEpvXi0Sdihv",
        "outputId": "6e0f48b7-40ce-4b14-e717-be9b41bb578f"
      },
      "execution_count": null,
      "outputs": [
        {
          "output_type": "execute_result",
          "data": {
            "text/plain": [
              "<Axes: >"
            ]
          },
          "metadata": {},
          "execution_count": 9
        },
        {
          "output_type": "display_data",
          "data": {
            "text/plain": [
              "<Figure size 640x480 with 1 Axes>"
            ],
            "image/png": "[encoded data removed]"
          },
          "metadata": {}
        }
      ]
    },
    {
      "cell_type": "markdown",
      "source": [
        "this is a pmf of this random distribution. its for roling dice for 10000 cases. for which random results are recorded."
      ],
      "metadata": {
        "id": "iMCc1p__dtDo"
      }
    },
    {
      "cell_type": "code",
      "source": [
        "K=[]\n",
        "for i in range(10000):\n",
        "  a = (random.randint(1,6))\n",
        "  b = (random.randint(1,6))\n",
        "  K.append(a+b)"
      ],
      "metadata": {
        "id": "7ZOVHn76eA-z"
      },
      "execution_count": null,
      "outputs": []
    },
    {
      "cell_type": "code",
      "source": [
        "len(K)"
      ],
      "metadata": {
        "colab": {
          "base_uri": "https://localhost:8080/"
        },
        "id": "3x1HTgQRefkS",
        "outputId": "ecfeacae-59f4-4ad7-8363-cabd6f358559"
      },
      "execution_count": null,
      "outputs": [
        {
          "output_type": "execute_result",
          "data": {
            "text/plain": [
              "10000"
            ]
          },
          "metadata": {},
          "execution_count": 11
        }
      ]
    },
    {
      "cell_type": "code",
      "source": [
        "K[:10]"
      ],
      "metadata": {
        "colab": {
          "base_uri": "https://localhost:8080/"
        },
        "id": "FwhkCcsoeqQ8",
        "outputId": "09687ea1-98e5-4a23-c164-d954a115a1ad"
      },
      "execution_count": null,
      "outputs": [
        {
          "output_type": "execute_result",
          "data": {
            "text/plain": [
              "[11, 10, 9, 6, 6, 9, 2, 6, 6, 6]"
            ]
          },
          "metadata": {},
          "execution_count": 12
        }
      ]
    },
    {
      "cell_type": "code",
      "source": [
        "q = pd.Series(K)\n",
        "q"
      ],
      "metadata": {
        "colab": {
          "base_uri": "https://localhost:8080/"
        },
        "id": "33q_ZJxsewD1",
        "outputId": "6673ce09-56fc-48f4-eed5-2f96818fe7a0"
      },
      "execution_count": null,
      "outputs": [
        {
          "output_type": "execute_result",
          "data": {
            "text/plain": [
              "0       11\n",
              "1       10\n",
              "2        9\n",
              "3        6\n",
              "4        6\n",
              "        ..\n",
              "9995     9\n",
              "9996     5\n",
              "9997     9\n",
              "9998     8\n",
              "9999     7\n",
              "Length: 10000, dtype: int64"
            ]
          },
          "metadata": {},
          "execution_count": 13
        }
      ]
    },
    {
      "cell_type": "code",
      "source": [
        "q = (pd.Series(K).value_counts()/pd.Series(K).value_counts().sum()).sort_index()\n",
        "q"
      ],
      "metadata": {
        "colab": {
          "base_uri": "https://localhost:8080/"
        },
        "id": "zuXy_dJZe8GD",
        "outputId": "26e4b8ba-ac05-4b70-e5bf-a67256559182"
      },
      "execution_count": null,
      "outputs": [
        {
          "output_type": "execute_result",
          "data": {
            "text/plain": [
              "2     0.0283\n",
              "3     0.0581\n",
              "4     0.0822\n",
              "5     0.1132\n",
              "6     0.1299\n",
              "7     0.1754\n",
              "8     0.1360\n",
              "9     0.1139\n",
              "10    0.0827\n",
              "11    0.0526\n",
              "12    0.0277\n",
              "dtype: float64"
            ]
          },
          "metadata": {},
          "execution_count": 14
        }
      ]
    },
    {
      "cell_type": "code",
      "source": [
        "q.plot(kind='bar')"
      ],
      "metadata": {
        "colab": {
          "base_uri": "https://localhost:8080/",
          "height": 451
        },
        "id": "XrdFQYOufx-v",
        "outputId": "19b27f9b-cdfe-48cd-8428-3780976db3bb"
      },
      "execution_count": null,
      "outputs": [
        {
          "output_type": "execute_result",
          "data": {
            "text/plain": [
              "<Axes: >"
            ]
          },
          "metadata": {},
          "execution_count": 15
        },
        {
          "output_type": "display_data",
          "data": {
            "text/plain": [
              "<Figure size 640x480 with 1 Axes>"
            ],
            "image/png": "[encoded data removed]"
          },
          "metadata": {}
        }
      ]
    },
    {
      "cell_type": "markdown",
      "source": [
        "This is for 2 dice roling  PMF , Probability Mass finction . PMF is for descrete random variable."
      ],
      "metadata": {
        "id": "pQTpemY6gCRA"
      }
    },
    {
      "cell_type": "code",
      "source": [
        "import numpy as np"
      ],
      "metadata": {
        "id": "b09HsNqdgPJi"
      },
      "execution_count": null,
      "outputs": []
    },
    {
      "cell_type": "code",
      "source": [
        "np.cumsum(q)"
      ],
      "metadata": {
        "colab": {
          "base_uri": "https://localhost:8080/"
        },
        "id": "gcYB3vilhAf9",
        "outputId": "bd752270-1def-4c64-ec95-710b942879cd"
      },
      "execution_count": null,
      "outputs": [
        {
          "output_type": "execute_result",
          "data": {
            "text/plain": [
              "2     0.0283\n",
              "3     0.0864\n",
              "4     0.1686\n",
              "5     0.2818\n",
              "6     0.4117\n",
              "7     0.5871\n",
              "8     0.7231\n",
              "9     0.8370\n",
              "10    0.9197\n",
              "11    0.9723\n",
              "12    1.0000\n",
              "dtype: float64"
            ]
          },
          "metadata": {},
          "execution_count": 17
        }
      ]
    },
    {
      "cell_type": "code",
      "source": [
        "np.cumsum(q).plot(kind ='bar')"
      ],
      "metadata": {
        "colab": {
          "base_uri": "https://localhost:8080/",
          "height": 451
        },
        "id": "9MIB2q_DhfYs",
        "outputId": "e927fab1-c6b0-4cf4-9ac6-540148036019"
      },
      "execution_count": null,
      "outputs": [
        {
          "output_type": "execute_result",
          "data": {
            "text/plain": [
              "<Axes: >"
            ]
          },
          "metadata": {},
          "execution_count": 18
        },
        {
          "output_type": "display_data",
          "data": {
            "text/plain": [
              "<Figure size 640x480 with 1 Axes>"
            ],
            "image/png": "[encoded data removed]"
          },
          "metadata": {}
        }
      ]
    },
    {
      "cell_type": "code",
      "source": [
        "import matplotlib.pyplot as plt\n",
        "import numpy as np\n",
        "from numpy.random import normal\n",
        "\n",
        "sample = normal(loc=50 , scale = 5, size=1000)"
      ],
      "metadata": {
        "id": "BiVC5UgEk0Ct"
      },
      "execution_count": null,
      "outputs": []
    },
    {
      "cell_type": "code",
      "source": [
        "sample"
      ],
      "metadata": {
        "colab": {
          "base_uri": "https://localhost:8080/"
        },
        "id": "aXKQRzlvlQUb",
        "outputId": "01571eaa-9d89-4499-d687-6f4fdd5e76e9"
      },
      "execution_count": null,
      "outputs": [
        {
          "output_type": "execute_result",
          "data": {
            "text/plain": [
              "array([53.0310178 , 53.89388638, 45.10890563, 45.61766941, 52.70220307,\n",
              "       52.32177872, 50.64747305, 50.99776523, 50.81240143, 50.06167238,\n",
              "       48.68206749, 56.04093895, 51.4065604 , 59.52850555, 43.32448466,\n",
              "       49.59145707, 53.92673666, 57.62092769, 60.17886516, 55.78378383,\n",
              "       52.75226235, 44.31664829, 45.1482932 , 55.06209969, 56.2700918 ,\n",
              "       50.23656549, 49.59561753, 44.37509228, 48.5996999 , 53.50266787,\n",
              "       44.71815259, 46.76441198, 53.00912522, 56.89690981, 48.4513936 ,\n",
              "       57.15287712, 48.12149104, 48.4402054 , 50.96020728, 51.55587559,\n",
              "       51.0756957 , 49.25453282, 48.05280883, 48.11848106, 45.19566796,\n",
              "       45.07841557, 50.53759154, 53.67910721, 52.69638744, 46.73369426,\n",
              "       48.91613329, 57.57426619, 58.90171696, 56.1481116 , 49.91980253,\n",
              "       37.47576631, 42.21032558, 55.07617233, 50.16023743, 50.67503225,\n",
              "       49.10618889, 49.27332247, 53.80152977, 52.83170694, 42.78630639,\n",
              "       47.50675546, 58.70370064, 45.52139007, 53.04706517, 55.36532228,\n",
              "       47.50046397, 52.63297514, 48.1890738 , 45.57680108, 50.16397915,\n",
              "       46.02471041, 55.8456362 , 39.70637261, 50.65570929, 48.50819447,\n",
              "       46.98372036, 53.22643177, 50.60369635, 53.40567352, 51.61157965,\n",
              "       50.65893955, 51.68997276, 47.27721575, 49.24157511, 57.06587174,\n",
              "       47.26125465, 53.38359995, 43.25518376, 58.11053201, 43.53319501,\n",
              "       54.58214059, 52.20844587, 53.26012664, 53.69621875, 49.32679966,\n",
              "       51.14868651, 42.65356782, 45.45159078, 52.05193981, 51.27302725,\n",
              "       55.16243354, 48.96200184, 42.63134823, 50.68618923, 44.05124635,\n",
              "       54.31414198, 45.38225594, 50.80952666, 52.71798879, 58.6134784 ,\n",
              "       55.69935373, 52.66101452, 39.79033986, 47.79679066, 49.28453022,\n",
              "       51.21477807, 47.15380771, 55.36094007, 47.27640153, 51.94417889,\n",
              "       42.94744061, 45.70493517, 52.07847313, 50.15965777, 42.65885568,\n",
              "       49.55586571, 46.87083522, 42.16304063, 44.62244505, 53.03984673,\n",
              "       46.97263006, 47.54777463, 49.08318445, 50.01397838, 55.0374826 ,\n",
              "       50.39218796, 53.94966361, 49.76876262, 44.59633927, 53.7442147 ,\n",
              "       47.00812105, 51.88400117, 47.14539944, 45.81753917, 49.17034288,\n",
              "       41.28197021, 47.2145502 , 45.92523396, 60.21224106, 46.33117947,\n",
              "       52.25855537, 57.54543179, 33.99515802, 50.43513067, 52.72306293,\n",
              "       50.50862762, 56.04500254, 52.30094739, 53.45652013, 51.41649601,\n",
              "       52.43328588, 56.31836641, 58.48446657, 54.67621592, 56.14135542,\n",
              "       51.06789923, 47.21032281, 45.85485137, 49.08340205, 49.01403441,\n",
              "       44.71575914, 41.39279357, 45.93148191, 51.89535748, 49.04808547,\n",
              "       54.63417423, 58.04667715, 48.79697764, 39.62416235, 43.78912531,\n",
              "       52.81071531, 54.34782778, 45.28856784, 45.81699899, 59.68273301,\n",
              "       44.53975416, 52.81805539, 57.71928449, 49.53883924, 53.44753589,\n",
              "       50.47434594, 47.99193138, 52.0081377 , 58.79632738, 51.54329587,\n",
              "       55.36071585, 39.71175409, 54.15146489, 44.01051244, 56.63506044,\n",
              "       46.38409279, 54.00494556, 46.96188118, 50.03552073, 45.89386874,\n",
              "       57.68641786, 51.36914725, 50.40115494, 57.77682722, 42.47842815,\n",
              "       56.15063605, 54.43501498, 50.42335957, 48.4792636 , 42.90145283,\n",
              "       58.62880312, 51.31693004, 44.89518219, 51.13845001, 45.87694346,\n",
              "       48.23997549, 51.65989635, 62.68088634, 44.30585321, 52.13659016,\n",
              "       53.28845596, 46.2652451 , 57.03912015, 39.87631675, 50.9731584 ,\n",
              "       46.96805938, 57.70931622, 50.67647605, 55.26366209, 56.79596173,\n",
              "       55.20909501, 43.30416414, 52.7035321 , 54.28049919, 54.2527281 ,\n",
              "       41.964553  , 53.23353672, 49.49001192, 47.56966044, 50.09474364,\n",
              "       50.29716604, 46.47684363, 55.53613761, 48.8761493 , 49.11414111,\n",
              "       47.59145903, 48.22958375, 42.15738035, 52.13628118, 51.42522211,\n",
              "       44.54885709, 53.82556064, 41.76126112, 47.61314175, 52.75969181,\n",
              "       54.62763106, 41.31264204, 48.04203896, 46.65420819, 45.26953311,\n",
              "       42.15854382, 41.98301229, 48.43255311, 50.18146076, 46.46182964,\n",
              "       52.80652379, 51.52408758, 50.30704163, 49.43278002, 60.22648662,\n",
              "       53.5772383 , 56.10558996, 47.94882918, 54.38478156, 48.97817647,\n",
              "       55.17521806, 52.68488815, 43.63489295, 52.04938143, 44.0407298 ,\n",
              "       45.15470392, 47.48074217, 42.4473221 , 50.43666692, 52.30904758,\n",
              "       49.14711014, 44.98987608, 57.07669575, 44.57618516, 51.33353947,\n",
              "       48.65224256, 46.73634469, 56.88284566, 49.64455069, 48.67029541,\n",
              "       45.22108762, 50.13790216, 50.64848595, 54.80849094, 45.94086251,\n",
              "       48.23679881, 51.45197816, 49.53369805, 49.53941149, 43.95346913,\n",
              "       38.90513057, 56.30812873, 49.89819172, 49.29937985, 50.29272712,\n",
              "       42.76744338, 53.30819911, 48.42320594, 60.59340894, 50.57960292,\n",
              "       50.09241254, 44.41209876, 38.49400551, 53.01360508, 53.56913066,\n",
              "       46.00848402, 51.16705807, 53.24062505, 49.44161796, 52.21144749,\n",
              "       49.57826101, 50.6590854 , 48.75958912, 50.6682441 , 49.36239961,\n",
              "       45.81972108, 43.70318623, 58.05991487, 50.05404426, 55.62053862,\n",
              "       51.73878957, 57.99528706, 48.17095084, 54.77153495, 49.8168659 ,\n",
              "       47.5765578 , 50.95655853, 48.97036058, 48.6546422 , 49.933489  ,\n",
              "       45.52634833, 52.82653009, 48.95567737, 51.61326944, 51.5609365 ,\n",
              "       42.16084337, 44.22200388, 40.63663408, 44.10969876, 50.09647057,\n",
              "       48.04235156, 53.21922889, 42.31947656, 47.59699598, 46.8183489 ,\n",
              "       63.51687712, 42.45017785, 44.00879455, 55.29155671, 56.90135061,\n",
              "       50.96501774, 50.52672212, 61.42665271, 47.74562029, 46.22484626,\n",
              "       51.18293162, 46.65065214, 48.85206087, 50.98593807, 48.23363838,\n",
              "       49.15488713, 54.24730951, 41.78439973, 47.75212787, 52.45530495,\n",
              "       50.71447439, 57.38599833, 48.95318193, 51.68749798, 44.84826603,\n",
              "       49.9560827 , 45.81171817, 56.75065262, 47.77480249, 51.09764703,\n",
              "       46.90364014, 48.81692402, 46.41666213, 54.84170913, 43.96643129,\n",
              "       55.56713879, 48.31253598, 55.24570275, 40.8876364 , 51.41265705,\n",
              "       44.94420185, 47.500362  , 48.73597359, 56.53010714, 46.59186678,\n",
              "       49.92115205, 49.58090527, 49.91394793, 42.80604967, 57.43013349,\n",
              "       48.22225712, 54.14605489, 54.17648547, 57.43242627, 53.60040054,\n",
              "       49.49316012, 51.3421752 , 46.87431702, 44.84736389, 52.16008135,\n",
              "       51.5059249 , 50.03889307, 60.59850923, 61.72534077, 55.12910779,\n",
              "       47.30398073, 54.61326875, 51.57789856, 55.83258647, 53.50806826,\n",
              "       49.50910287, 48.6998598 , 43.96058711, 47.62168698, 49.38532163,\n",
              "       50.45272643, 55.92097749, 48.85904153, 50.93288341, 63.87088823,\n",
              "       47.38959751, 51.79922581, 46.08003904, 56.79441383, 41.12346521,\n",
              "       54.42246496, 48.43048763, 46.84399844, 50.02701257, 50.55184243,\n",
              "       47.40101408, 62.13131162, 36.96996854, 48.39914616, 45.87399545,\n",
              "       47.98433657, 43.01245675, 49.69514804, 48.52869943, 57.05621459,\n",
              "       45.24596888, 54.98361482, 45.31105271, 58.59073685, 56.51205816,\n",
              "       54.66077319, 44.93937845, 47.91577406, 53.8422053 , 51.62893969,\n",
              "       46.82546254, 53.88507494, 38.07205525, 40.28965406, 45.4980726 ,\n",
              "       52.58165466, 53.0706811 , 49.56919024, 47.53645991, 49.69019268,\n",
              "       48.37104421, 42.73984179, 50.41839596, 43.46417602, 41.92943589,\n",
              "       48.86821555, 54.67647091, 48.6986061 , 44.20448074, 34.47588866,\n",
              "       49.29221713, 54.57228586, 48.13734363, 49.14080329, 56.38360972,\n",
              "       50.37315788, 48.24455447, 51.7637219 , 54.75545662, 49.74874514,\n",
              "       44.76938868, 51.58323012, 47.54131067, 47.44507756, 60.68075485,\n",
              "       35.70678838, 45.79509651, 51.87289728, 52.53187586, 49.51092893,\n",
              "       46.08034231, 53.02373363, 49.8726997 , 54.67595109, 47.27162788,\n",
              "       46.92494976, 52.88658597, 41.66973296, 53.9367534 , 48.24942866,\n",
              "       49.42544104, 51.86419261, 53.24173156, 57.47918402, 43.2412433 ,\n",
              "       45.78850048, 53.87524092, 53.8108082 , 55.56038436, 48.92773904,\n",
              "       56.07234039, 49.01228612, 45.78907718, 41.33611285, 44.84667137,\n",
              "       51.40269169, 45.95591586, 51.51534734, 52.18389298, 52.30576349,\n",
              "       53.353684  , 53.44512282, 48.7640319 , 54.10519519, 53.19074775,\n",
              "       51.88468639, 54.81877029, 53.90292   , 57.59035476, 51.01539026,\n",
              "       50.9179955 , 44.47212388, 48.58483541, 41.14463254, 55.85242187,\n",
              "       37.70459676, 57.16634541, 47.79117409, 53.75707301, 57.09047656,\n",
              "       60.34274971, 57.15619147, 65.59039559, 55.70464406, 54.22758555,\n",
              "       45.43541966, 54.01851873, 49.98704546, 51.47298267, 55.63074568,\n",
              "       46.37753521, 49.19116592, 48.28749817, 53.25184321, 42.87194185,\n",
              "       58.49526491, 52.29545589, 58.6358773 , 53.28090634, 52.82391479,\n",
              "       52.67339584, 50.86644937, 48.49980267, 47.15737188, 51.74717822,\n",
              "       47.32106499, 54.40708488, 52.30706137, 51.57614571, 53.0255626 ,\n",
              "       55.48644936, 53.6345234 , 50.90139069, 49.00344819, 38.8910743 ,\n",
              "       48.36509704, 39.32345433, 47.70457433, 59.61227694, 40.31531293,\n",
              "       50.36884196, 44.58420071, 52.78892737, 43.30591615, 48.77361348,\n",
              "       49.51848898, 48.97973047, 45.2054126 , 53.15430484, 43.37904779,\n",
              "       50.02761884, 51.81908316, 46.40091232, 57.2266352 , 52.97635572,\n",
              "       56.00316263, 59.00690329, 56.77803077, 48.41196952, 52.48055134,\n",
              "       47.52589583, 45.18368663, 57.24586862, 57.58209858, 53.24604366,\n",
              "       50.66129849, 51.23508191, 43.27006228, 46.93719152, 51.38735431,\n",
              "       55.18482985, 37.90412943, 50.35121827, 45.33043121, 60.19457057,\n",
              "       56.45242602, 45.97415523, 52.02364496, 46.87236642, 52.15172873,\n",
              "       48.4173273 , 44.59432761, 50.44744298, 46.11699993, 48.53888691,\n",
              "       55.18856516, 53.01008375, 46.51963428, 46.8633548 , 45.87208059,\n",
              "       44.35466316, 54.29448769, 47.21169586, 47.74380059, 48.04344705,\n",
              "       53.65547044, 51.0527142 , 48.41772451, 44.16660908, 55.638255  ,\n",
              "       56.66769173, 41.9740823 , 45.69317724, 42.9366707 , 49.96170197,\n",
              "       47.12899313, 44.25958939, 55.18870569, 51.58523155, 51.71843416,\n",
              "       47.63447475, 45.18750668, 50.27788035, 45.77329125, 49.82983155,\n",
              "       53.32712651, 54.07740111, 46.79277728, 60.1703382 , 44.50838966,\n",
              "       49.46024952, 50.78073282, 49.03327113, 59.45679419, 52.15442559,\n",
              "       41.29405323, 48.14117478, 58.8103766 , 50.34242771, 59.30558817,\n",
              "       52.67443135, 38.43974661, 51.22889473, 50.48254612, 48.18807102,\n",
              "       40.39611781, 50.44022315, 51.11984566, 52.84611711, 64.56228137,\n",
              "       60.36505489, 40.91568541, 47.22918031, 54.80215688, 45.52100792,\n",
              "       56.57688523, 48.28629895, 47.28191022, 41.26127309, 58.02478368,\n",
              "       47.1404772 , 56.01126265, 43.88237498, 41.75684935, 48.2918685 ,\n",
              "       43.66060709, 51.70529639, 49.1453007 , 53.48784878, 41.42030529,\n",
              "       48.09348903, 48.11925183, 47.219458  , 47.99608879, 53.54082511,\n",
              "       50.04586065, 53.22371216, 44.29458894, 49.0011386 , 43.67893311,\n",
              "       56.0921639 , 51.15325969, 47.46561528, 52.94548155, 60.235546  ,\n",
              "       41.76226833, 48.13538731, 44.09502102, 46.5583335 , 51.42841891,\n",
              "       54.13594812, 43.73886438, 56.44184397, 48.08357348, 52.51437901,\n",
              "       52.92284508, 48.62988364, 50.68758403, 49.55960915, 50.7593503 ,\n",
              "       52.53070255, 46.36454852, 50.94474904, 44.88064446, 54.16085684,\n",
              "       44.60558556, 45.94841027, 57.20296995, 53.47607456, 45.66298413,\n",
              "       47.91917494, 53.91414275, 44.43509751, 50.57000296, 51.30409732,\n",
              "       49.09875418, 55.02592282, 49.25287138, 53.91554769, 52.7975458 ,\n",
              "       44.37339565, 48.47471515, 46.54931634, 49.69897165, 56.00075001,\n",
              "       56.64322837, 50.46251851, 43.1601093 , 46.94403008, 44.68177966,\n",
              "       48.36074821, 54.53056667, 49.38796719, 42.95097486, 53.91514182,\n",
              "       52.35827447, 52.92444868, 38.97655014, 42.80891563, 51.32960489,\n",
              "       62.06652457, 52.61566174, 46.18637334, 47.49487525, 47.25615791,\n",
              "       62.60416161, 43.86151762, 51.77632177, 45.16190216, 54.33643475,\n",
              "       44.62658258, 45.65359399, 38.51374292, 48.14742658, 53.57814305,\n",
              "       50.17342891, 56.39810121, 59.70270312, 46.43924771, 53.00285422,\n",
              "       43.80614898, 52.20739658, 39.5425304 , 48.41143374, 50.62935769,\n",
              "       53.76637255, 41.28599861, 52.69769233, 64.957251  , 46.68984842,\n",
              "       43.13671899, 57.72385725, 45.19572637, 51.39959628, 52.093776  ,\n",
              "       54.92687202, 54.84364094, 43.54265096, 48.8300867 , 41.39435278,\n",
              "       45.03134367, 52.09852677, 51.84919615, 57.27726592, 53.07698421,\n",
              "       53.62344413, 52.10521901, 49.34071184, 47.94817409, 53.54719633,\n",
              "       60.05158131, 46.59632624, 54.0089847 , 52.00048803, 57.73573829,\n",
              "       42.70664335, 51.79762918, 45.01660452, 53.66960564, 44.5682541 ,\n",
              "       50.49404509, 56.14808096, 47.508744  , 43.67363181, 48.96872063,\n",
              "       55.59496192, 53.49093482, 55.92981406, 53.60205493, 46.34094235,\n",
              "       43.67484227, 56.2465532 , 52.87616863, 54.49177367, 44.13317853,\n",
              "       48.45349333, 52.18375011, 46.51981505, 40.2915273 , 47.7912741 ,\n",
              "       46.03979546, 40.31579844, 47.28453661, 43.58309831, 59.46971924,\n",
              "       46.54241192, 55.05694057, 46.00711458, 55.47386479, 50.88371886,\n",
              "       49.92012488, 53.17529627, 41.83190631, 51.56699354, 48.14654539,\n",
              "       48.07253365, 48.31568891, 47.80196564, 44.69383071, 53.55195839,\n",
              "       48.43426885, 47.35514676, 48.42737535, 53.00238205, 50.70774545,\n",
              "       57.11392669, 43.15893417, 58.08926977, 49.30729078, 56.8236787 ,\n",
              "       39.05995359, 45.78499108, 50.19634007, 39.79716288, 55.5774979 ,\n",
              "       39.10851314, 64.83747403, 57.25262873, 49.15063433, 41.61715481,\n",
              "       59.13563681, 47.3129597 , 49.61930796, 40.64864732, 46.27873489,\n",
              "       50.96191553, 52.40378225, 54.77111167, 47.02320808, 46.38196073,\n",
              "       48.85176347, 56.31678315, 56.86264667, 60.15729744, 55.62845287,\n",
              "       60.28780098, 55.22970863, 52.30541943, 54.66811398, 53.39572591,\n",
              "       44.27903089, 53.64550497, 52.90379845, 54.92590377, 47.02500906,\n",
              "       51.78348707, 43.27808392, 49.95621816, 45.27660583, 55.23012832,\n",
              "       44.58511349, 50.41813994, 51.20752323, 58.76139655, 46.80777592,\n",
              "       47.13275187, 51.31086796, 52.66484963, 44.30489782, 50.27182154,\n",
              "       43.46140678, 54.42334873, 50.14351025, 48.88764567, 52.74531768,\n",
              "       52.8575093 , 53.73653637, 51.04530587, 44.55703196, 53.22364556,\n",
              "       56.06547978, 53.02160845, 45.32946818, 53.58946094, 41.7612565 ,\n",
              "       45.73569122, 52.07483405, 57.33380019, 59.58033309, 56.85732876,\n",
              "       55.58595912, 49.45297501, 48.13283113, 52.17207636, 51.1974632 ,\n",
              "       50.6527981 , 50.25680821, 48.41741904, 53.03917969, 54.61616804,\n",
              "       48.48270926, 53.41777323, 41.17406843, 47.36678161, 44.96988691,\n",
              "       55.09918786, 52.47276511, 43.60630321, 48.96998934, 55.89609881])"
            ]
          },
          "metadata": {},
          "execution_count": 20
        }
      ]
    },
    {
      "cell_type": "code",
      "source": [
        "sample.mean()"
      ],
      "metadata": {
        "colab": {
          "base_uri": "https://localhost:8080/"
        },
        "id": "0_-1YpvhlVb0",
        "outputId": "61489395-2e33-4340-bbcb-1992d8c38e59"
      },
      "execution_count": null,
      "outputs": [
        {
          "output_type": "execute_result",
          "data": {
            "text/plain": [
              "50.0749316351422"
            ]
          },
          "metadata": {},
          "execution_count": 21
        }
      ]
    },
    {
      "cell_type": "code",
      "source": [
        "#plot histogram to understand the distribution of data\n",
        "plt.hist(sample,bins=10)"
      ],
      "metadata": {
        "colab": {
          "base_uri": "https://localhost:8080/",
          "height": 517
        },
        "id": "u3sLeGKylc0G",
        "outputId": "99fbd8b5-e71d-48db-c388-3d47bf4f7749"
      },
      "execution_count": null,
      "outputs": [
        {
          "output_type": "execute_result",
          "data": {
            "text/plain": [
              "(array([  4.,  22.,  68., 150., 231., 236., 177.,  78.,  26.,   8.]),\n",
              " array([33.99515802, 37.15468178, 40.31420553, 43.47372929, 46.63325305,\n",
              "        49.79277681, 52.95230056, 56.11182432, 59.27134808, 62.43087183,\n",
              "        65.59039559]),\n",
              " <BarContainer object of 10 artists>)"
            ]
          },
          "metadata": {},
          "execution_count": 22
        },
        {
          "output_type": "display_data",
          "data": {
            "text/plain": [
              "<Figure size 640x480 with 1 Axes>"
            ],
            "image/png": "[encoded data removed]"
          },
          "metadata": {}
        }
      ]
    },
    {
      "cell_type": "code",
      "source": [
        "sample_mean=sample.mean()\n",
        "sample_std= sample.std()"
      ],
      "metadata": {
        "id": "of3u0F_YlzMj"
      },
      "execution_count": null,
      "outputs": []
    },
    {
      "cell_type": "code",
      "source": [
        "from scipy.stats import norm\n",
        "dist = norm(sample_mean,sample_std)\n"
      ],
      "metadata": {
        "id": "LQPKwbvDmHnG"
      },
      "execution_count": null,
      "outputs": []
    },
    {
      "cell_type": "code",
      "source": [
        "values = np.linspace(sample.min(),sample.max(),100)"
      ],
      "metadata": {
        "id": "QRX1PJTamYKI"
      },
      "execution_count": null,
      "outputs": []
    },
    {
      "cell_type": "code",
      "source": [
        "pdensity = [dist.pdf(value) for value in values]"
      ],
      "metadata": {
        "id": "uh0c0VDZmrv-"
      },
      "execution_count": null,
      "outputs": []
    },
    {
      "cell_type": "code",
      "source": [
        "plt.hist(sample, bins=10, density=True)\n",
        "plt.plot(values,pdensity)"
      ],
      "metadata": {
        "colab": {
          "base_uri": "https://localhost:8080/",
          "height": 447
        },
        "id": "IQfsBZcdnDRO",
        "outputId": "34e85483-520d-4d0d-ad8a-3771bfc6edbf"
      },
      "execution_count": null,
      "outputs": [
        {
          "output_type": "execute_result",
          "data": {
            "text/plain": [
              "[<matplotlib.lines.Line2D at 0x7ee535e64190>]"
            ]
          },
          "metadata": {},
          "execution_count": 27
        },
        {
          "output_type": "display_data",
          "data": {
            "text/plain": [
              "<Figure size 640x480 with 1 Axes>"
            ],
            "image/png": "[encoded data removed]"
          },
          "metadata": {}
        }
      ]
    },
    {
      "cell_type": "code",
      "source": [
        "import seaborn as sns"
      ],
      "metadata": {
        "id": "uCdwuOdonhdO"
      },
      "execution_count": null,
      "outputs": []
    },
    {
      "cell_type": "code",
      "source": [
        "sns.displot(sample)\n",
        "\n",
        "sns.distplot(sample)"
      ],
      "metadata": {
        "colab": {
          "base_uri": "https://localhost:8080/",
          "height": 714
        },
        "id": "HQvlL0kAnkm7",
        "outputId": "61372ac1-7295-491e-efbe-09f7ecbcc206"
      },
      "execution_count": null,
      "outputs": [
        {
          "output_type": "stream",
          "name": "stderr",
          "text": [
            "<ipython-input-29-913cbd33dc0b>:3: UserWarning: \n",
            "\n",
            "`distplot` is a deprecated function and will be removed in seaborn v0.14.0.\n",
            "\n",
            "Please adapt your code to use either `displot` (a figure-level function with\n",
            "similar flexibility) or `histplot` (an axes-level function for histograms).\n",
            "\n",
            "For a guide to updating your code to use the new functions, please see\n",
            "https://gist.github.com/mwaskom/de44147ed2974457ad6372750bbe5751\n",
            "\n",
            "  sns.distplot(sample)\n"
          ]
        },
        {
          "output_type": "execute_result",
          "data": {
            "text/plain": [
              "<Axes: ylabel='Count'>"
            ]
          },
          "metadata": {},
          "execution_count": 29
        },
        {
          "output_type": "display_data",
          "data": {
            "text/plain": [
              "<Figure size 500x500 with 1 Axes>"
            ],
            "image/png": "[encoded data removed]"
          },
          "metadata": {}
        }
      ]
    },
    {
      "cell_type": "markdown",
      "source": [
        "KDE kernel density function"
      ],
      "metadata": {
        "id": "pmM-kYYSQdoG"
      }
    },
    {
      "cell_type": "code",
      "source": [
        "#generate a function\n",
        "sample1=normal(loc=20,scale=5,size=300)\n",
        "sample2=normal(loc=40,scale=5,size=700)\n",
        "sample = np.hstack((sample1,sample2))"
      ],
      "metadata": {
        "id": "ToasiKXaNoe4"
      },
      "execution_count": null,
      "outputs": []
    },
    {
      "cell_type": "code",
      "source": [
        "sample"
      ],
      "metadata": {
        "colab": {
          "base_uri": "https://localhost:8080/"
        },
        "id": "PH2WXQ-5QPww",
        "outputId": "68d32053-a6ba-4605-d969-9c0eab039e9e"
      },
      "execution_count": null,
      "outputs": [
        {
          "output_type": "execute_result",
          "data": {
            "text/plain": [
              "array([23.63650007, 20.02834763, 15.99381658, 21.21301786, 12.58258221,\n",
              "       13.01471782, 13.43057644, 21.23778965, 21.27871506, 20.06893251,\n",
              "       18.95100917, 17.26652103, 17.22603775, 16.63679862, 26.95537697,\n",
              "       10.87762924, 22.34615743, 24.61716684, 33.43249125, 17.70593231,\n",
              "       15.61132739, 18.80876798, 22.33922814, 18.89747012, 25.67425504,\n",
              "       21.95265206, 15.57324654, 14.94728635, 16.66648863, 13.10999204,\n",
              "       14.46567052, 14.16974112, 21.01130303, 18.51403504, 19.7740498 ,\n",
              "       15.54577566, 17.71608171, 24.52818229, 20.30504026,  7.8168891 ,\n",
              "       18.47771163, 23.86334881, 18.88429856, 18.96066013,  8.11591378,\n",
              "        6.6649092 , 23.64456143, 21.48115237, 28.25826302, 22.91813472,\n",
              "       20.81751624, 22.0864872 , 17.54121294, 17.34878966, 34.2316101 ,\n",
              "       21.22791555, 24.13425295, 21.70839608, 21.2971013 , 20.65622431,\n",
              "       17.09935178, 23.99765616, 24.82095423, 17.56566598, 22.19453546,\n",
              "       25.398488  , 21.19739707, 18.99724282, 17.54294552, 25.74062114,\n",
              "       19.00426195, 12.72999653, 26.95690442, 16.07741176, 20.90952726,\n",
              "       16.26844435, 17.32780318, 20.35939496,  6.10567919, 29.32288105,\n",
              "       31.61779768, 16.46031725, 22.76023476, 21.21957103, 19.7838132 ,\n",
              "       28.45124179, 14.10259218, 19.55428205, 23.51684783, 22.75369302,\n",
              "       18.42299398, 19.69608608, 18.59954202,  9.80724075, 14.21285287,\n",
              "       12.88451941,  9.01448247, 21.02250525, 21.61578436, 14.36105613,\n",
              "       22.23963027, 14.12758193, 17.61992603, 20.27712308, 18.7607171 ,\n",
              "       21.06636771, 23.37161872, 20.66282582, 10.33629731, 17.07013339,\n",
              "       23.72581518, 30.55537119, 25.91683934, 14.60340167, 26.72597514,\n",
              "       14.73323965, 29.97463736, 14.05697887, 16.79232895, 21.57035687,\n",
              "       16.27507575, 19.98026549, 26.19120362, 10.8847334 , 21.24814905,\n",
              "       18.30781993, 27.72514783, 19.56923314, 21.63467907, 19.54562554,\n",
              "       26.96496236, 21.74283498, 24.75717564, 20.18333463,  9.84912764,\n",
              "       15.83023171, 16.91224744, 22.15581866, 27.30410812, 26.56407205,\n",
              "       14.51535183, 10.06079348, 12.43208998, 21.88226693, 23.83162673,\n",
              "       18.97423675, 24.72827274, 20.13473381, 12.39869977, 26.67665327,\n",
              "       18.30811448, 27.28999574,  9.70861305, 12.00357744, 18.72570421,\n",
              "       18.31356858, 20.50126761, 19.81193369, 16.79783318,  8.02111537,\n",
              "       26.60577051, 19.85173699, 23.10381362, 15.1859016 , 24.09940118,\n",
              "       24.04363158, 24.03446336, 26.93560655, 15.82851961, 25.60419824,\n",
              "       17.13233901, 13.37779635, 13.79754352, 27.94117837, 15.71842175,\n",
              "       24.61504569, 25.05933707, 17.08168233, 18.50900742, 21.14153805,\n",
              "       13.84187687, 22.59241521, 26.10055615, 24.14723259, 15.27768606,\n",
              "       18.89808511, 14.25358986, 18.92128141, 21.6263379 , 16.27499308,\n",
              "       30.32974039, 17.56233588, 23.88775541, 16.92193815, 22.66038061,\n",
              "       26.38165526, 16.64888188, 26.26702312, 22.0658847 , 21.08532757,\n",
              "       18.19748522, 21.27275954, 19.16754272, 25.46805718, 22.38207926,\n",
              "       30.01120945, 25.02527862, 19.99235844, 29.05496898, 17.25208593,\n",
              "       26.0833796 , 10.84983054, 17.71631862, 17.41841932, 20.11749268,\n",
              "       18.75308853, 27.29768448, 25.43773502, 14.94445812, 15.90425587,\n",
              "       18.07984793, 25.7793062 , 12.99485426, 18.99028771, 23.09345743,\n",
              "       26.63086073, 28.97512916, 15.95284537, 15.37564268, 12.86891995,\n",
              "       21.07482467, 18.80110984, 15.10892912, 17.47132214, 14.55190628,\n",
              "       32.50978834, 24.31373185, 20.39093164, 14.22533246, 22.571559  ,\n",
              "       19.43649378, 25.7360966 , 24.00453628, 22.81880318, 29.93137239,\n",
              "       19.20729557, 11.01590262, 22.40096692, 27.10589206, 28.10523128,\n",
              "       18.98828197, 15.37013434, 24.83704979, 29.21815296, 33.5454434 ,\n",
              "       17.46227396, 18.60901485, 24.66789666, 20.66267058, 12.48961154,\n",
              "       23.77574625, 19.72520021, 12.04904056, 29.08157125, 20.06121868,\n",
              "       19.06012911, 14.94756534, 22.28009217, 23.41115267, 26.26020818,\n",
              "       18.26503005, 22.24529553, 28.39423588, 18.05572243, 14.75142947,\n",
              "       15.96570399, 11.63517544, 40.35092221, 24.4853235 , 16.84131953,\n",
              "       20.00023291, 23.2358193 , 24.24846289, 17.00536342, 21.03615555,\n",
              "       20.64900524, 27.12750042, 22.04590561, 21.87738777, 22.18394266,\n",
              "       19.87147495, 19.31694271, 22.2376562 , 15.44463462, 14.7574466 ,\n",
              "       29.84953527, 21.68430227, 18.90904039, 21.93461258, 15.39557703,\n",
              "       35.43343007, 46.27997428, 47.3270392 , 33.19737479, 31.91726081,\n",
              "       45.41065586, 43.16476532, 36.25058156, 41.20832261, 32.13934686,\n",
              "       40.37628587, 46.15570983, 38.91580391, 42.08354195, 48.76217037,\n",
              "       42.36044462, 39.36923065, 36.4887046 , 38.36635027, 38.12248687,\n",
              "       43.52231975, 39.34857521, 35.90851534, 45.92830252, 38.18706047,\n",
              "       38.15969417, 46.44797659, 41.89020257, 40.57225192, 40.99265681,\n",
              "       33.70500275, 38.62947104, 35.41882574, 42.28045002, 40.17072406,\n",
              "       39.23324287, 50.75684674, 45.36362209, 35.49741124, 41.124945  ,\n",
              "       46.7522403 , 40.1989949 , 42.52138391, 37.47336131, 48.62391174,\n",
              "       29.36925276, 46.69758906, 40.5947357 , 39.74060761, 36.71303401,\n",
              "       38.83336016, 34.04327245, 38.66648005, 43.83584931, 37.14149878,\n",
              "       34.48636228, 34.56305925, 32.07464693, 45.86928252, 39.48195009,\n",
              "       37.05408701, 36.53928005, 47.03302895, 36.71476826, 41.39077768,\n",
              "       44.29101606, 42.69310163, 33.02050586, 43.16799082, 46.23748666,\n",
              "       46.3110526 , 28.00512223, 41.55360305, 42.13352608, 35.04386744,\n",
              "       46.83109527, 33.94082873, 43.46265807, 40.58477181, 39.19677172,\n",
              "       34.00343062, 41.16173144, 43.44880247, 43.71755926, 36.16125247,\n",
              "       48.28839219, 30.68293984, 35.10853804, 45.36006456, 48.97019512,\n",
              "       43.41267801, 36.94128559, 41.5578063 , 28.75349263, 32.06533124,\n",
              "       45.21356508, 35.42014447, 36.83851285, 45.28922249, 43.52903684,\n",
              "       42.91434671, 40.04245006, 43.41044841, 42.26456456, 43.53955627,\n",
              "       32.27954076, 38.76680522, 39.53945618, 36.65118105, 43.4847266 ,\n",
              "       40.45273351, 33.04810576, 54.55153005, 38.87840678, 37.50108826,\n",
              "       36.55700464, 40.17710655, 38.91267553, 41.52167217, 32.77993745,\n",
              "       43.39159634, 38.62284879, 41.61500034, 40.82784921, 34.6675721 ,\n",
              "       37.32448512, 36.84098601, 34.08248519, 35.70332624, 38.41860113,\n",
              "       31.2614941 , 39.11048407, 40.58799953, 40.05292214, 44.10796209,\n",
              "       41.68933413, 39.25324287, 42.99475028, 37.01487976, 41.09894262,\n",
              "       35.29263368, 36.17704298, 29.35487885, 52.85345364, 37.56806844,\n",
              "       40.2878291 , 38.7788589 , 41.33377127, 37.71708183, 41.9198522 ,\n",
              "       38.61572643, 46.47181379, 47.23954463, 39.96894039, 36.68560262,\n",
              "       45.62838284, 38.38927964, 41.93041997, 40.33174896, 40.06505621,\n",
              "       39.16911876, 35.20372134, 33.81040811, 32.23775128, 39.49922728,\n",
              "       42.23851315, 33.45441573, 33.24920472, 45.95739859, 31.54627769,\n",
              "       36.24697701, 42.53710536, 47.10119204, 32.10582625, 47.34132877,\n",
              "       39.22052619, 42.61530554, 37.28382666, 48.67949162, 38.92850389,\n",
              "       31.62554213, 44.71516904, 34.11577779, 46.34233146, 43.4947971 ,\n",
              "       47.34094113, 31.47054925, 39.90738228, 30.20638892, 41.05845533,\n",
              "       35.59907555, 41.7363941 , 24.19639215, 33.36033929, 36.7208109 ,\n",
              "       35.69493512, 34.23122467, 37.50988333, 37.1244289 , 53.40374866,\n",
              "       38.11267615, 40.45695628, 44.86633457, 40.34785288, 42.43273698,\n",
              "       41.39770583, 43.01179382, 47.0664029 , 44.4205258 , 33.98858362,\n",
              "       31.52108861, 28.67149046, 37.36346161, 41.53908745, 39.15236952,\n",
              "       37.289886  , 34.87084974, 41.34795562, 41.14249344, 38.83086018,\n",
              "       45.55560285, 44.47904979, 25.72268595, 46.80227058, 42.78818039,\n",
              "       42.81500788, 31.92867871, 39.11871775, 39.31232793, 51.55430387,\n",
              "       41.06677351, 34.00405429, 43.45257078, 34.08783373, 40.56399064,\n",
              "       39.15468651, 33.06874022, 44.43876287, 41.24644422, 42.16305352,\n",
              "       45.53771156, 34.99557003, 44.47955649, 43.66650952, 34.99136759,\n",
              "       45.19245844, 30.21482243, 44.76884129, 47.34159208, 41.89880925,\n",
              "       34.54953118, 39.64681281, 33.32763097, 37.68404905, 33.19900632,\n",
              "       32.45269964, 44.29397326, 41.99353473, 36.05477446, 32.63901848,\n",
              "       39.76465931, 39.10090341, 53.41646763, 34.05367644, 42.60382539,\n",
              "       32.53093894, 47.48532921, 38.62908569, 40.63554242, 43.10570144,\n",
              "       40.94749475, 44.93878951, 48.60634751, 43.25462725, 44.0609639 ,\n",
              "       36.56248776, 32.6840486 , 39.52727309, 37.50705106, 41.86564597,\n",
              "       45.36507134, 43.19765726, 37.16630707, 39.29902608, 40.63313802,\n",
              "       40.52836144, 38.84124503, 34.83401595, 32.32245445, 35.33667237,\n",
              "       43.33492634, 33.78036917, 39.31193566, 41.76154668, 42.6208819 ,\n",
              "       35.27684359, 40.94797374, 40.56289967, 44.7466209 , 38.49391012,\n",
              "       38.90563342, 44.96432579, 34.64620206, 40.46628172, 33.81135537,\n",
              "       33.78064503, 45.50182482, 32.15936115, 43.70293213, 40.96296825,\n",
              "       47.52342029, 50.05320363, 39.31711617, 43.90182457, 49.4398883 ,\n",
              "       41.70257536, 39.76998143, 31.80371589, 35.80319909, 38.61883724,\n",
              "       36.64149987, 40.25447055, 28.33163618, 46.70638016, 45.26577956,\n",
              "       42.42985409, 34.35720677, 33.94804336, 40.59229155, 43.53072027,\n",
              "       34.44500402, 39.67903912, 46.45514828, 41.49594254, 33.76182708,\n",
              "       36.37182017, 43.26757633, 42.23057257, 38.79532655, 41.6217711 ,\n",
              "       46.80818289, 39.6154913 , 46.57808824, 36.04656031, 38.10925548,\n",
              "       43.30493104, 42.45763559, 27.36995661, 42.61293765, 39.91244986,\n",
              "       46.01076672, 38.72092746, 33.37692703, 40.87810656, 35.70157817,\n",
              "       40.24086074, 47.45621064, 47.73691412, 43.03331235, 35.26107871,\n",
              "       31.50721836, 37.10630455, 32.91809745, 38.81916508, 42.35154033,\n",
              "       36.11315073, 41.02795596, 39.67844523, 34.23494365, 36.73215497,\n",
              "       36.72866246, 41.59109443, 40.36102831, 36.45357688, 53.05515871,\n",
              "       43.45612673, 36.79169286, 40.71442389, 34.74371554, 52.11835388,\n",
              "       40.20486001, 36.27277964, 40.15796604, 43.02319997, 42.7718461 ,\n",
              "       42.95031261, 39.70627713, 45.01742776, 41.99443657, 44.09444249,\n",
              "       43.64212912, 38.88518186, 35.77556887, 41.95705446, 44.09751805,\n",
              "       45.17910088, 41.340935  , 49.72437698, 37.65102834, 39.14838916,\n",
              "       44.82599503, 36.67486303, 27.05258462, 44.07342827, 47.62377486,\n",
              "       40.61172369, 44.09200276, 24.47998059, 41.37235946, 40.74306945,\n",
              "       41.59814558, 41.29820643, 46.11994385, 40.60195922, 40.1044895 ,\n",
              "       37.80606605, 36.34664167, 45.54035699, 39.88157105, 43.58810199,\n",
              "       37.96332205, 41.38104259, 43.91651515, 37.79341156, 44.26378229,\n",
              "       35.34032343, 41.57029507, 36.54886275, 40.05562098, 41.22180933,\n",
              "       44.13612633, 42.28425081, 51.51986592, 44.18678873, 50.14012758,\n",
              "       42.30747547, 46.12253792, 48.32438107, 43.65389654, 49.02993267,\n",
              "       37.07486444, 40.42590714, 34.4341988 , 39.29094488, 38.32614306,\n",
              "       38.93778994, 44.34076665, 37.64337545, 38.4076648 , 43.18499382,\n",
              "       39.6822859 , 38.0871841 , 41.23681881, 37.66459814, 36.25137286,\n",
              "       35.40265086, 43.91063687, 34.58241866, 38.94963342, 48.02124705,\n",
              "       33.04251452, 38.95056894, 44.07311033, 44.55217279, 45.68205489,\n",
              "       34.68299151, 48.87829987, 35.82127095, 32.03108219, 40.68851768,\n",
              "       37.77592945, 46.91557169, 37.48716325, 30.97338113, 47.22010361,\n",
              "       36.67718065, 37.99486574, 41.46129199, 35.09352965, 33.02903128,\n",
              "       36.30857891, 37.67897869, 43.88831147, 39.56729926, 42.95009933,\n",
              "       38.76774245, 47.30744633, 42.66237817, 38.01068205, 47.50044771,\n",
              "       46.54134545, 42.79045789, 37.57546595, 38.40236112, 35.94333596,\n",
              "       44.55367763, 32.87992412, 37.44710533, 35.16534386, 41.57403171,\n",
              "       38.30926641, 39.27525228, 49.19146926, 43.16180379, 40.74918638,\n",
              "       41.52048671, 47.53190133, 34.20903546, 39.67561751, 46.45124859,\n",
              "       43.69154255, 41.34487053, 44.53582106, 38.98798126, 34.00968599,\n",
              "       42.26339758, 42.2728753 , 46.78924062, 35.35346596, 36.91632296,\n",
              "       36.00697067, 40.14307256, 37.2973206 , 39.65684893, 43.94104223,\n",
              "       34.40097342, 38.69131541, 47.85863597, 34.69344721, 32.5088412 ,\n",
              "       35.31241862, 39.7118832 , 29.2765722 , 46.89068431, 44.10178498,\n",
              "       31.71157298, 41.45142584, 35.41417244, 37.67900325, 45.52523096,\n",
              "       44.32852884, 45.0549944 , 34.89113119, 37.5724607 , 31.5154376 ,\n",
              "       41.90657874, 42.69620202, 41.5726767 , 39.32212382, 39.26548897,\n",
              "       37.47068148, 45.30563792, 37.3670415 , 32.92640188, 44.24534711,\n",
              "       38.24031253, 38.55055   , 42.286352  , 40.36727677, 44.59487776,\n",
              "       38.82031302, 42.32166075, 36.72020443, 33.58960295, 38.40904371,\n",
              "       35.98550497, 42.00179429, 46.47753379, 40.59138004, 38.83203652,\n",
              "       41.69068418, 36.51293142, 39.69073463, 34.16770163, 31.92630829,\n",
              "       34.98316464, 40.71296198, 34.09938769, 40.48080722, 38.92209264,\n",
              "       46.80356142, 37.80812807, 45.46548148, 41.54707935, 40.10887633,\n",
              "       42.48189772, 50.79702789, 39.05025757, 39.80909263, 45.06068082,\n",
              "       46.97664291, 46.84931696, 41.10063217, 44.74894613, 42.36722887,\n",
              "       37.99973707, 39.58661054, 54.01375759, 38.77953008, 36.52242542,\n",
              "       42.02766839, 41.2027209 , 49.5555713 , 45.1118387 , 34.89998127,\n",
              "       32.27248867, 43.54110355, 44.32817582, 40.67055449, 44.6576736 ,\n",
              "       40.49576769, 44.24648524, 42.20948923, 38.75011692, 39.07152819,\n",
              "       45.72469354, 42.95415918, 36.08893465, 39.93432012, 44.34193429,\n",
              "       38.34422645, 43.49534127, 49.2671851 , 41.80268371, 43.94770793,\n",
              "       38.36529251, 41.0341131 , 51.91473384, 43.03293881, 49.76030525,\n",
              "       38.63485994, 26.1703284 , 45.90446628, 39.54234374, 46.32243428,\n",
              "       39.80071279, 36.33253933, 37.37283081, 35.4211848 , 37.25865432,\n",
              "       38.07002123, 40.26270012, 49.53315498, 38.84170588, 41.2827673 ,\n",
              "       44.8431042 , 43.41019259, 39.8745906 , 41.00799227, 30.28139918,\n",
              "       36.1254568 , 47.03175642, 41.99414522, 35.07664258, 40.92560899,\n",
              "       38.91406408, 29.65504039, 48.44274449, 39.64652502, 34.33786471,\n",
              "       46.75726651, 37.52185028, 39.81114182, 40.1724329 , 33.34224857,\n",
              "       46.55527673, 35.94402438, 45.4256766 , 36.62762997, 32.62700437,\n",
              "       43.09427637, 38.09877519, 43.24643247, 39.17055688, 38.82131374,\n",
              "       46.67321244, 41.74215846, 34.46569511, 45.82153257, 41.0244338 ,\n",
              "       44.80764276, 31.19312857, 41.83557691, 34.56174145, 34.49706511,\n",
              "       40.05490436, 42.5482325 , 33.8434183 , 52.35485436, 48.4033571 ,\n",
              "       34.60191244, 32.44248428, 43.96719897, 43.25542758, 44.83941032,\n",
              "       38.05990722, 53.69881478, 39.52079738, 40.92991983, 38.81676449])"
            ]
          },
          "metadata": {},
          "execution_count": 32
        }
      ]
    },
    {
      "cell_type": "code",
      "source": [
        "plt.hist(sample,bins = 50)"
      ],
      "metadata": {
        "colab": {
          "base_uri": "https://localhost:8080/",
          "height": 708
        },
        "id": "W7H_Uh13Qlpz",
        "outputId": "fbd80def-8071-4630-b76a-6d8c90cb99dd"
      },
      "execution_count": null,
      "outputs": [
        {
          "output_type": "execute_result",
          "data": {
            "text/plain": [
              "(array([ 2.,  2.,  1.,  4.,  5.,  2.,  9.,  7., 15., 14., 14., 26., 13.,\n",
              "        25., 21., 24., 25., 12., 19., 13., 14., 16.,  6., 11.,  9.,  6.,\n",
              "        19., 22., 29., 34., 32., 39., 39., 56., 55., 56., 57., 42., 46.,\n",
              "        42., 28., 27., 26.,  9.,  9.,  4.,  4.,  3.,  4.,  3.]),\n",
              " array([ 6.10567919,  7.07459621,  8.04351323,  9.01243024,  9.98134726,\n",
              "        10.95026428, 11.9191813 , 12.88809831, 13.85701533, 14.82593235,\n",
              "        15.79484936, 16.76376638, 17.7326834 , 18.70160042, 19.67051743,\n",
              "        20.63943445, 21.60835147, 22.57726849, 23.5461855 , 24.51510252,\n",
              "        25.48401954, 26.45293655, 27.42185357, 28.39077059, 29.35968761,\n",
              "        30.32860462, 31.29752164, 32.26643866, 33.23535567, 34.20427269,\n",
              "        35.17318971, 36.14210673, 37.11102374, 38.07994076, 39.04885778,\n",
              "        40.01777479, 40.98669181, 41.95560883, 42.92452585, 43.89344286,\n",
              "        44.86235988, 45.8312769 , 46.80019391, 47.76911093, 48.73802795,\n",
              "        49.70694497, 50.67586198, 51.644779  , 52.61369602, 53.58261303,\n",
              "        54.55153005]),\n",
              " <BarContainer object of 50 artists>)"
            ]
          },
          "metadata": {},
          "execution_count": 33
        },
        {
          "output_type": "display_data",
          "data": {
            "text/plain": [
              "<Figure size 640x480 with 1 Axes>"
            ],
            "image/png": "[encoded data removed]"
          },
          "metadata": {}
        }
      ]
    },
    {
      "cell_type": "code",
      "source": [
        "from sklearn.neighbors import KernelDensity\n",
        "\n",
        "model = KernelDensity(bandwidth=3 , kernel ='gaussian')\n",
        "\n",
        "#convert data to 2 d array\n",
        "sample = sample.reshape((len(sample),1))\n",
        "\n",
        "model.fit(sample)"
      ],
      "metadata": {
        "colab": {
          "base_uri": "https://localhost:8080/",
          "height": 74
        },
        "id": "3HvAo8M60p54",
        "outputId": "2d1ffb54-fa26-4454-dbf6-cf4b4ea3c638"
      },
      "execution_count": null,
      "outputs": [
        {
          "output_type": "execute_result",
          "data": {
            "text/plain": [
              "KernelDensity(bandwidth=3)"
            ],
            "text/html": [
              "<style>#sk-container-id-1 {color: black;background-color: white;}#sk-container-id-1 pre{padding: 0;}#sk-container-id-1 div.sk-toggleable {background-color: white;}#sk-container-id-1 label.sk-toggleable__label {cursor: pointer;display: block;width: 100%;margin-bottom: 0;padding: 0.3em;box-sizing: border-box;text-align: center;}#sk-container-id-1 label.sk-toggleable__label-arrow:before {content: \"▸\";float: left;margin-right: 0.25em;color: #696969;}#sk-container-id-1 label.sk-toggleable__label-arrow:hover:before {color: black;}#sk-container-id-1 div.sk-estimator:hover label.sk-toggleable__label-arrow:before {color: black;}#sk-container-id-1 div.sk-toggleable__content {max-height: 0;max-width: 0;overflow: hidden;text-align: left;background-color: #f0f8ff;}#sk-container-id-1 div.sk-toggleable__content pre {margin: 0.2em;color: black;border-radius: 0.25em;background-color: #f0f8ff;}#sk-container-id-1 input.sk-toggleable__control:checked~div.sk-toggleable__content {max-height: 200px;max-width: 100%;overflow: auto;}#sk-container-id-1 input.sk-toggleable__control:checked~label.sk-toggleable__label-arrow:before {content: \"▾\";}#sk-container-id-1 div.sk-estimator input.sk-toggleable__control:checked~label.sk-toggleable__label {background-color: #d4ebff;}#sk-container-id-1 div.sk-label input.sk-toggleable__control:checked~label.sk-toggleable__label {background-color: #d4ebff;}#sk-container-id-1 input.sk-hidden--visually {border: 0;clip: rect(1px 1px 1px 1px);clip: rect(1px, 1px, 1px, 1px);height: 1px;margin: -1px;overflow: hidden;padding: 0;position: absolute;width: 1px;}#sk-container-id-1 div.sk-estimator {font-family: monospace;background-color: #f0f8ff;border: 1px dotted black;border-radius: 0.25em;box-sizing: border-box;margin-bottom: 0.5em;}#sk-container-id-1 div.sk-estimator:hover {background-color: #d4ebff;}#sk-container-id-1 div.sk-parallel-item::after {content: \"\";width: 100%;border-bottom: 1px solid gray;flex-grow: 1;}#sk-container-id-1 div.sk-label:hover label.sk-toggleable__label {background-color: #d4ebff;}#sk-container-id-1 div.sk-serial::before {content: \"\";position: absolute;border-left: 1px solid gray;box-sizing: border-box;top: 0;bottom: 0;left: 50%;z-index: 0;}#sk-container-id-1 div.sk-serial {display: flex;flex-direction: column;align-items: center;background-color: white;padding-right: 0.2em;padding-left: 0.2em;position: relative;}#sk-container-id-1 div.sk-item {position: relative;z-index: 1;}#sk-container-id-1 div.sk-parallel {display: flex;align-items: stretch;justify-content: center;background-color: white;position: relative;}#sk-container-id-1 div.sk-item::before, #sk-container-id-1 div.sk-parallel-item::before {content: \"\";position: absolute;border-left: 1px solid gray;box-sizing: border-box;top: 0;bottom: 0;left: 50%;z-index: -1;}#sk-container-id-1 div.sk-parallel-item {display: flex;flex-direction: column;z-index: 1;position: relative;background-color: white;}#sk-container-id-1 div.sk-parallel-item:first-child::after {align-self: flex-end;width: 50%;}#sk-container-id-1 div.sk-parallel-item:last-child::after {align-self: flex-start;width: 50%;}#sk-container-id-1 div.sk-parallel-item:only-child::after {width: 0;}#sk-container-id-1 div.sk-dashed-wrapped {border: 1px dashed gray;margin: 0 0.4em 0.5em 0.4em;box-sizing: border-box;padding-bottom: 0.4em;background-color: white;}#sk-container-id-1 div.sk-label label {font-family: monospace;font-weight: bold;display: inline-block;line-height: 1.2em;}#sk-container-id-1 div.sk-label-container {text-align: center;}#sk-container-id-1 div.sk-container {/* jupyter's `normalize.less` sets `[hidden] { display: none; }` but bootstrap.min.css set `[hidden] { display: none !important; }` so we also need the `!important` here to be able to override the default hidden behavior on the sphinx rendered scikit-learn.org. See: https://github.com/scikit-learn/scikit-learn/issues/21755 */display: inline-block !important;position: relative;}#sk-container-id-1 div.sk-text-repr-fallback {display: none;}</style><div id=\"sk-container-id-1\" class=\"sk-top-container\"><div class=\"sk-text-repr-fallback\"><pre>KernelDensity(bandwidth=3)</pre><b>In a Jupyter environment, please rerun this cell to show the HTML representation or trust the notebook. <br />On GitHub, the HTML representation is unable to render, please try loading this page with nbviewer.org.</b></div><div class=\"sk-container\" hidden><div class=\"sk-item\"><div class=\"sk-estimator sk-toggleable\"><input class=\"sk-toggleable__control sk-hidden--visually\" id=\"sk-estimator-id-1\" type=\"checkbox\" checked><label for=\"sk-estimator-id-1\" class=\"sk-toggleable__label sk-toggleable__label-arrow\">KernelDensity</label><div class=\"sk-toggleable__content\"><pre>KernelDensity(bandwidth=3)</pre></div></div></div></div></div>"
            ]
          },
          "metadata": {},
          "execution_count": 36
        }
      ]
    },
    {
      "cell_type": "code",
      "source": [
        "values = np.linspace(sample.min(),sample.max(),100)\n",
        "values = values.reshape((len(values),1))"
      ],
      "metadata": {
        "id": "Ex28pwd_2TMj"
      },
      "execution_count": null,
      "outputs": []
    },
    {
      "cell_type": "code",
      "source": [
        "probabilities = model.score_samples(values)\n",
        "probabilities = np.exp(probabilities)"
      ],
      "metadata": {
        "id": "8Zukyj502sTn"
      },
      "execution_count": null,
      "outputs": []
    },
    {
      "cell_type": "markdown",
      "source": [
        "score_samples(values) returns the log-density estimate of the input samples values. This is because the score_samples() method of the KernelDensity class returns the logarithm of the probability density estimate rather than the actual probability density estimate."
      ],
      "metadata": {
        "id": "fAx6i2_J3Koe"
      }
    },
    {
      "cell_type": "code",
      "source": [
        "plt.hist(sample,bins=50,density = True)\n",
        "plt.plot(values[:],probabilities)\n",
        "plt.show()"
      ],
      "metadata": {
        "colab": {
          "base_uri": "https://localhost:8080/",
          "height": 430
        },
        "id": "GNZ6Fmkg3L8U",
        "outputId": "1f75bbc8-be87-44eb-f9a5-288f284bfe05"
      },
      "execution_count": null,
      "outputs": [
        {
          "output_type": "display_data",
          "data": {
            "text/plain": [
              "<Figure size 640x480 with 1 Axes>"
            ],
            "image/png": "[encoded data removed]"
          },
          "metadata": {}
        }
      ]
    }
  ]
}